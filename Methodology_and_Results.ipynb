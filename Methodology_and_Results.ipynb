{
 "cells": [
  {
   "cell_type": "markdown",
   "id": "f9ae038d",
   "metadata": {},
   "source": [
    "# Confusion Scheme Learning"
   ]
  },
  {
   "cell_type": "markdown",
   "id": "a92586f4",
   "metadata": {},
   "source": [
    "### Methodology and Results: Quantum Monte Carlo simulation of an electron-phonon model"
   ]
  },
  {
   "cell_type": "markdown",
   "id": "0486437c",
   "metadata": {},
   "source": [
    "**Learning By Confusion** (LBC) is a machine learning technique for detecting phase transitions, first introduced by van Nieuwenberg <i>et. al.</i> in <i>\"Learning phase transitions by confusion\",</i> [Nature Physics 13, 435-439 (2017)](https://www.nature.com/articles/nphys4037). In recent years this method has been used to detect phase transitions in a variety of classical models in condensed matter physics such as the XY-model and the q-state Potts model, however its application to <i>Quantum</i> Monte Carlo datasets has not yet been fully explored. In this notebook, we provide an overview of the Hamiltonian we simulate using the Hybrid Quantum Monte Carlo (HMC) algorithm, a model of the electron-phonon interaction on a lattice known as the Holstein model. At low temperature, this model exhibits a phase transition to a long-range ordered charge density wave (CDW) phase. We are interested in discovering this phase transition and estimating the critical temperature, using the LBC method. The benefit of such as approach, as we will see, is that we do not require in advance any knowledge of an order parameter. The confusion scheme approach may therefore be useful for discovering more subtle quantum phase transitions, which may be more difficult to detect by other means. "
   ]
  },
  {
   "cell_type": "markdown",
   "id": "ac69c57f",
   "metadata": {},
   "source": [
    "## 1. The Holstein model"
   ]
  },
  {
   "cell_type": "markdown",
   "id": "6b1b4af0",
   "metadata": {},
   "source": [
    "Here we will briefly describe the Hamiltonian under study: the Holstein model. This is a description of the electron-phonon interaction on a lattice, which can be split up into three parts. The first is an electron kinetic energy term $\\hat{K}$, which describes nearest-neighbor electron hopping on a lattice. A key feature of the Holstein model is that on each site $i$, there are quantum harmonic oscillators (phonons) of frequency $\\omega_0$, with $X_i$ and $P_i$ the corresponding position and momentum operators. Thus the Hamiltonian contains a second term $\\hat{U}$ giving the phonon kinetic and potential energies. The last term, $\\hat{V}$, is the **electron-phonon interaction** which takes the form of the electron density $n$ at a site $i$ coupled to the phonon displacement $x$ at that site."
   ]
  },
  {
   "cell_type": "markdown",
   "id": "34dd781c",
   "metadata": {},
   "source": [
    "$ \\hat{H} = \\hat{K} + \\hat{U} + \\hat{V}$"
   ]
  },
  {
   "cell_type": "markdown",
   "id": "d56f00a4",
   "metadata": {},
   "source": [
    "where:"
   ]
  },
  {
   "cell_type": "markdown",
   "id": "cd71db7f",
   "metadata": {},
   "source": [
    "$\\hat{K} = -t \\sum_{\\langle i, j \\rangle, \\sigma} (\\hat{c}^\\dagger_{i,\\sigma} \\hat{c}_{j,\\sigma} + \\hat{c}^\\dagger_{j,\\sigma} \\hat{c}_{i,\\sigma}) - \\mu \\sum_{i,\\sigma} \\hat{n}_{i,\\sigma}$\n",
    "\n",
    "$\\hat{U} = \\frac{1}{2}\\sum_i \\hat{P}_i^2 + \\frac{\\omega_0}{2}\\sum_i \\hat{X}_i^2$\n",
    "\n",
    "$\\hat{V} = \\lambda \\sum_{i, \\sigma} \\hat{n}_{i, \\sigma} \\hat{X}_i$"
   ]
  },
  {
   "cell_type": "markdown",
   "id": "0bbc5a57",
   "metadata": {},
   "source": [
    "with $\\hat{c}^\\dagger_{i,\\sigma}$ denoting an electron creation operator at site $i$ with spin $\\sigma=\\{\\uparrow \\downarrow \\}$. The model has an on-site electron-phonon coupling, which crucially leads to an effective electron-electron attraction, and therefore pairing of electrons. At low temperature, these can condense into a long-range ordered phase."
   ]
  },
  {
   "cell_type": "markdown",
   "id": "d88226a3",
   "metadata": {},
   "source": [
    "On a square lattice at half-filling, previous numerical studies have found a phase transition to charge density wave (CDW) order, which has the form of a checkerboard pattern of alternating doubly occupied and empty sites. These previous studies [[Phys. Rev. Lett. 120, 187003 (2018)]](https://journals.aps.org/prl/abstract/10.1103/PhysRevLett.120.187003) estimate a critical inverse temperature of $\\beta_c=6.0 \\pm 0.1$, obtained by studying many different lattice sizes and performing a finite-size scaling of a known order parameter (a specified quantity which is measured during the simulation). "
   ]
  },
  {
   "cell_type": "code",
   "execution_count": null,
   "id": "a840cf69",
   "metadata": {},
   "outputs": [],
   "source": []
  }
 ],
 "metadata": {
  "kernelspec": {
   "display_name": "Python 3 (ipykernel)",
   "language": "python",
   "name": "python3"
  },
  "language_info": {
   "codemirror_mode": {
    "name": "ipython",
    "version": 3
   },
   "file_extension": ".py",
   "mimetype": "text/x-python",
   "name": "python",
   "nbconvert_exporter": "python",
   "pygments_lexer": "ipython3",
   "version": "3.10.11"
  }
 },
 "nbformat": 4,
 "nbformat_minor": 5
}
